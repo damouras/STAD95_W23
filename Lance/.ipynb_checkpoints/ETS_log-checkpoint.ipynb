{
 "cells": [
  {
   "cell_type": "code",
   "execution_count": 1,
   "metadata": {
    "scrolled": true
   },
   "outputs": [
    {
     "name": "stderr",
     "output_type": "stream",
     "text": [
      "/opt/anaconda3/lib/python3.8/site-packages/pandas/core/computation/expressions.py:20: UserWarning: Pandas requires version '2.7.3' or newer of 'numexpr' (version '2.7.1' currently installed).\n",
      "  from pandas.core.computation.check import NUMEXPR_INSTALLED\n"
     ]
    }
   ],
   "source": [
    "%load_ext rpy2.ipython"
   ]
  },
  {
   "cell_type": "code",
   "execution_count": 2,
   "metadata": {
    "scrolled": true
   },
   "outputs": [
    {
     "name": "stderr",
     "output_type": "stream",
     "text": [
      "R[write to console]: Registered S3 method overwritten by 'quantmod':\n",
      "  method            from\n",
      "  as.zoo.data.frame zoo \n",
      "\n",
      "R[write to console]: ── \u001b[1mAttaching packages\u001b[22m ────────────────────────────────────────────── fpp2 2.4 ──\n",
      "\n",
      "R[write to console]: \u001b[32m✔\u001b[39m \u001b[34mggplot2  \u001b[39m 3.3.6      \u001b[32m✔\u001b[39m \u001b[34mfma      \u001b[39m 2.4   \n",
      "\u001b[32m✔\u001b[39m \u001b[34mforecast \u001b[39m 8.17.0     \u001b[32m✔\u001b[39m \u001b[34mexpsmooth\u001b[39m 2.3   \n",
      "\n",
      "R[write to console]: \n",
      "\n",
      "R[write to console]: \n",
      "    ‘tseries’ version: 0.10-51\n",
      "\n",
      "    ‘tseries’ is a package for time series analysis and computational\n",
      "    finance.\n",
      "\n",
      "    See ‘library(help=\"tseries\")’ for details.\n",
      "\n",
      "\n",
      "R[write to console]: Loading required package: zoo\n",
      "\n",
      "R[write to console]: \n",
      "Attaching package: ‘zoo’\n",
      "\n",
      "\n",
      "R[write to console]: The following objects are masked from ‘package:base’:\n",
      "\n",
      "    as.Date, as.Date.numeric\n",
      "\n",
      "\n",
      "R[write to console]: \n",
      "Attaching package: ‘lubridate’\n",
      "\n",
      "\n",
      "R[write to console]: The following objects are masked from ‘package:base’:\n",
      "\n",
      "    date, intersect, setdiff, union\n",
      "\n",
      "\n"
     ]
    }
   ],
   "source": [
    "%%R \n",
    "library(fpp2)\n",
    "library(ggplot2)\n",
    "library(tseries)\n",
    "library(xts)\n",
    "library(lubridate)"
   ]
  },
  {
   "cell_type": "markdown",
   "metadata": {},
   "source": [
    "## ETS_log"
   ]
  },
  {
   "cell_type": "markdown",
   "metadata": {},
   "source": [
    "### Price"
   ]
  },
  {
   "cell_type": "code",
   "execution_count": null,
   "metadata": {},
   "outputs": [],
   "source": [
    "%%R\n",
    "raw = read.csv(\"final_daily.csv\")\n",
    "date_time = as_datetime(raw[,1])\n",
    "price = xts( x = raw[,\"price\"], order.by = date_time) \n",
    "demand = xts( x = raw[,\"demand\"], order.by = date_time) \n",
    "\n",
    "demand_train = demand[\"2020/2021\"]; demand_test = demand[\"2022\"]\n",
    "price_train = price[\"2020/2021\"]; price_test = price[\"2022\"]\n",
    "\n",
    "price_train = log(price_train+5)\n",
    "price_test=log(price_test+5)"
   ]
  },
  {
   "cell_type": "code",
   "execution_count": 3,
   "metadata": {},
   "outputs": [
    {
     "name": "stderr",
     "output_type": "stream",
     "text": [
      "R[write to console]: Model is being refit with current smoothing parameters but initial states are being re-estimated.\n",
      "Set 'use.initial.values=TRUE' if you want to re-use existing initial values.\n",
      "\n"
     ]
    }
   ],
   "source": [
    "%%R\n",
    "out =  ets( price_train )\n",
    "fit = ets( c(price_train, price_test), model = out )\n",
    "summary(fit)\n",
    "pred = tail( fitted(fit ), n = length(price_test) )"
   ]
  },
  {
   "cell_type": "code",
   "execution_count": 4,
   "metadata": {},
   "outputs": [
    {
     "name": "stdout",
     "output_type": "stream",
     "text": [
      "[1] 2344.298\n"
     ]
    }
   ],
   "source": [
    "%%R\n",
    "pred = exp(pred)\n",
    "result= cbind(price_test,pred)\n",
    "autoplot(result)\n",
    "diff = result$price_test-result$pred\n",
    "MSE = mean(diff^2)\n",
    "MSE"
   ]
  },
  {
   "cell_type": "code",
   "execution_count": 5,
   "metadata": {},
   "outputs": [
    {
     "name": "stdout",
     "output_type": "stream",
     "text": [
      "[1] 44.22696\n"
     ]
    }
   ],
   "source": [
    "%%R\n",
    "MAE=mean(abs(diff))\n",
    "MAE"
   ]
  },
  {
   "cell_type": "code",
   "execution_count": 6,
   "metadata": {},
   "outputs": [
    {
     "name": "stdout",
     "output_type": "stream",
     "text": [
      "[1] 1\n"
     ]
    }
   ],
   "source": [
    "%%R\n",
    "error = abs(price_test-pred)/abs(price_test)\n",
    "error[error > 1] = 1\n",
    "mean(error)"
   ]
  },
  {
   "cell_type": "markdown",
   "metadata": {},
   "source": [
    "### Demand"
   ]
  },
  {
   "cell_type": "code",
   "execution_count": 7,
   "metadata": {},
   "outputs": [
    {
     "name": "stderr",
     "output_type": "stream",
     "text": [
      "R[write to console]: Model is being refit with current smoothing parameters but initial states are being re-estimated.\n",
      "Set 'use.initial.values=TRUE' if you want to re-use existing initial values.\n",
      "\n"
     ]
    }
   ],
   "source": [
    "%%R\n",
    "out =  ets( log(demand_train) )\n",
    "fit = ets( c(log(demand_train), log(demand_test)), model = out )\n",
    "summary(fit)\n",
    "pred = tail( fitted(fit ), n = length(demand_test) )"
   ]
  },
  {
   "cell_type": "code",
   "execution_count": 8,
   "metadata": {},
   "outputs": [
    {
     "name": "stdout",
     "output_type": "stream",
     "text": [
      "[1] 414561272\n"
     ]
    }
   ],
   "source": [
    "%%R\n",
    "pred = exp(pred)\n",
    "result= cbind(demand_test,pred)\n",
    "autoplot(result)\n",
    "diff = result$demand_test-result$pred\n",
    "MSE = mean(diff^2)\n",
    "MSE"
   ]
  },
  {
   "cell_type": "code",
   "execution_count": 9,
   "metadata": {},
   "outputs": [
    {
     "name": "stdout",
     "output_type": "stream",
     "text": [
      "[1] 15270.61\n"
     ]
    }
   ],
   "source": [
    "%%R\n",
    "MAE=mean(abs(diff))\n",
    "MAE"
   ]
  },
  {
   "cell_type": "code",
   "execution_count": 10,
   "metadata": {},
   "outputs": [
    {
     "name": "stdout",
     "output_type": "stream",
     "text": [
      "[1] 0.04089592\n"
     ]
    }
   ],
   "source": [
    "%%R\n",
    "error = abs(demand_test-pred)/abs(demand_test)\n",
    "error[error > 1] = 1\n",
    "mean(error)"
   ]
  }
 ],
 "metadata": {
  "kernelspec": {
   "display_name": "Python 3",
   "language": "python",
   "name": "python3"
  },
  "language_info": {
   "codemirror_mode": {
    "name": "ipython",
    "version": 3
   },
   "file_extension": ".py",
   "mimetype": "text/x-python",
   "name": "python",
   "nbconvert_exporter": "python",
   "pygments_lexer": "ipython3",
   "version": "3.8.5"
  }
 },
 "nbformat": 4,
 "nbformat_minor": 4
}

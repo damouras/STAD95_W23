{
 "cells": [
  {
   "cell_type": "markdown",
   "metadata": {},
   "source": [
    "# EDA"
   ]
  },
  {
   "cell_type": "code",
   "execution_count": 1,
   "metadata": {},
   "outputs": [],
   "source": [
    "import pandas as pd\n",
    "import numpy as np\n",
    "import datetime\n",
    "import os\n",
    "import seaborn as sns\n",
    "import matplotlib.pyplot as plt\n",
    "%matplotlib inline"
   ]
  },
  {
   "cell_type": "code",
   "execution_count": 2,
   "metadata": {},
   "outputs": [],
   "source": [
    "file_dir=os.getcwd()[:-6]+ 'Data/'"
   ]
  },
  {
   "cell_type": "code",
   "execution_count": 5,
   "metadata": {},
   "outputs": [],
   "source": [
    "df = pd.read_csv(file_dir+'interim/final_data.csv')"
   ]
  },
  {
   "cell_type": "code",
   "execution_count": 6,
   "metadata": {},
   "outputs": [
    {
     "data": {
      "text/html": [
       "<div>\n",
       "<style scoped>\n",
       "    .dataframe tbody tr th:only-of-type {\n",
       "        vertical-align: middle;\n",
       "    }\n",
       "\n",
       "    .dataframe tbody tr th {\n",
       "        vertical-align: top;\n",
       "    }\n",
       "\n",
       "    .dataframe thead th {\n",
       "        text-align: right;\n",
       "    }\n",
       "</style>\n",
       "<table border=\"1\" class=\"dataframe\">\n",
       "  <thead>\n",
       "    <tr style=\"text-align: right;\">\n",
       "      <th></th>\n",
       "      <th>Date</th>\n",
       "      <th>Price</th>\n",
       "      <th>1_hour_pred</th>\n",
       "      <th>2_hour_pred</th>\n",
       "      <th>3_hour_pred</th>\n",
       "      <th>Market Demand</th>\n",
       "      <th>Ontario Demand</th>\n",
       "      <th>1_lag_pred</th>\n",
       "      <th>2_lag_pred</th>\n",
       "      <th>3_lag_pred</th>\n",
       "    </tr>\n",
       "  </thead>\n",
       "  <tbody>\n",
       "    <tr>\n",
       "      <th>0</th>\n",
       "      <td>2022-01-01 01:00:00</td>\n",
       "      <td>32.18</td>\n",
       "      <td>27.75</td>\n",
       "      <td>27.73</td>\n",
       "      <td>32.41</td>\n",
       "      <td>15150</td>\n",
       "      <td>13543</td>\n",
       "      <td>NaN</td>\n",
       "      <td>NaN</td>\n",
       "      <td>NaN</td>\n",
       "    </tr>\n",
       "    <tr>\n",
       "      <th>1</th>\n",
       "      <td>2022-01-01 02:00:00</td>\n",
       "      <td>59.04</td>\n",
       "      <td>23.23</td>\n",
       "      <td>28.62</td>\n",
       "      <td>32.41</td>\n",
       "      <td>15344</td>\n",
       "      <td>13254</td>\n",
       "      <td>27.75</td>\n",
       "      <td>NaN</td>\n",
       "      <td>NaN</td>\n",
       "    </tr>\n",
       "    <tr>\n",
       "      <th>2</th>\n",
       "      <td>2022-01-01 03:00:00</td>\n",
       "      <td>18.79</td>\n",
       "      <td>17.00</td>\n",
       "      <td>14.36</td>\n",
       "      <td>29.13</td>\n",
       "      <td>14686</td>\n",
       "      <td>12683</td>\n",
       "      <td>23.23</td>\n",
       "      <td>27.73</td>\n",
       "      <td>NaN</td>\n",
       "    </tr>\n",
       "    <tr>\n",
       "      <th>3</th>\n",
       "      <td>2022-01-01 04:00:00</td>\n",
       "      <td>15.78</td>\n",
       "      <td>18.00</td>\n",
       "      <td>17.20</td>\n",
       "      <td>14.39</td>\n",
       "      <td>14400</td>\n",
       "      <td>12491</td>\n",
       "      <td>17.00</td>\n",
       "      <td>28.62</td>\n",
       "      <td>32.41</td>\n",
       "    </tr>\n",
       "    <tr>\n",
       "      <th>4</th>\n",
       "      <td>2022-01-01 05:00:00</td>\n",
       "      <td>0.41</td>\n",
       "      <td>12.99</td>\n",
       "      <td>12.99</td>\n",
       "      <td>29.51</td>\n",
       "      <td>14043</td>\n",
       "      <td>12493</td>\n",
       "      <td>18.00</td>\n",
       "      <td>14.36</td>\n",
       "      <td>32.41</td>\n",
       "    </tr>\n",
       "  </tbody>\n",
       "</table>\n",
       "</div>"
      ],
      "text/plain": [
       "                  Date  Price  1_hour_pred  2_hour_pred  3_hour_pred  \\\n",
       "0  2022-01-01 01:00:00  32.18        27.75        27.73        32.41   \n",
       "1  2022-01-01 02:00:00  59.04        23.23        28.62        32.41   \n",
       "2  2022-01-01 03:00:00  18.79        17.00        14.36        29.13   \n",
       "3  2022-01-01 04:00:00  15.78        18.00        17.20        14.39   \n",
       "4  2022-01-01 05:00:00   0.41        12.99        12.99        29.51   \n",
       "\n",
       "   Market Demand  Ontario Demand  1_lag_pred  2_lag_pred  3_lag_pred  \n",
       "0          15150           13543         NaN         NaN         NaN  \n",
       "1          15344           13254       27.75         NaN         NaN  \n",
       "2          14686           12683       23.23       27.73         NaN  \n",
       "3          14400           12491       17.00       28.62       32.41  \n",
       "4          14043           12493       18.00       14.36       32.41  "
      ]
     },
     "execution_count": 6,
     "metadata": {},
     "output_type": "execute_result"
    }
   ],
   "source": [
    "df.head()"
   ]
  },
  {
   "cell_type": "code",
   "execution_count": 7,
   "metadata": {},
   "outputs": [
    {
     "data": {
      "text/plain": [
       "(9144, 10)"
      ]
     },
     "execution_count": 7,
     "metadata": {},
     "output_type": "execute_result"
    }
   ],
   "source": [
    "df.shape"
   ]
  },
  {
   "cell_type": "code",
   "execution_count": 8,
   "metadata": {},
   "outputs": [
    {
     "name": "stdout",
     "output_type": "stream",
     "text": [
      "<class 'pandas.core.frame.DataFrame'>\n",
      "RangeIndex: 9144 entries, 0 to 9143\n",
      "Data columns (total 10 columns):\n",
      " #   Column          Non-Null Count  Dtype  \n",
      "---  ------          --------------  -----  \n",
      " 0   Date            9144 non-null   object \n",
      " 1   Price           9144 non-null   float64\n",
      " 2   1_hour_pred     9127 non-null   float64\n",
      " 3   2_hour_pred     9127 non-null   float64\n",
      " 4   3_hour_pred     9127 non-null   float64\n",
      " 5   Market Demand   9144 non-null   int64  \n",
      " 6   Ontario Demand  9144 non-null   int64  \n",
      " 7   1_lag_pred      9126 non-null   float64\n",
      " 8   2_lag_pred      9125 non-null   float64\n",
      " 9   3_lag_pred      9124 non-null   float64\n",
      "dtypes: float64(7), int64(2), object(1)\n",
      "memory usage: 714.5+ KB\n"
     ]
    }
   ],
   "source": [
    "df.info()"
   ]
  },
  {
   "cell_type": "code",
   "execution_count": 22,
   "metadata": {
    "scrolled": true
   },
   "outputs": [
    {
     "data": {
      "text/plain": [
       "Date               0\n",
       "Price              0\n",
       "1_hour_pred       17\n",
       "2_hour_pred       17\n",
       "3_hour_pred       17\n",
       "Market Demand      0\n",
       "Ontario Demand     0\n",
       "1_lag_pred        18\n",
       "2_lag_pred        19\n",
       "3_lag_pred        20\n",
       "dtype: int64"
      ]
     },
     "execution_count": 22,
     "metadata": {},
     "output_type": "execute_result"
    }
   ],
   "source": [
    "df.isna().sum()"
   ]
  },
  {
   "cell_type": "code",
   "execution_count": 14,
   "metadata": {},
   "outputs": [
    {
     "data": {
      "text/html": [
       "<div>\n",
       "<style scoped>\n",
       "    .dataframe tbody tr th:only-of-type {\n",
       "        vertical-align: middle;\n",
       "    }\n",
       "\n",
       "    .dataframe tbody tr th {\n",
       "        vertical-align: top;\n",
       "    }\n",
       "\n",
       "    .dataframe thead th {\n",
       "        text-align: right;\n",
       "    }\n",
       "</style>\n",
       "<table border=\"1\" class=\"dataframe\">\n",
       "  <thead>\n",
       "    <tr style=\"text-align: right;\">\n",
       "      <th></th>\n",
       "      <th>Price</th>\n",
       "      <th>1_hour_pred</th>\n",
       "      <th>2_hour_pred</th>\n",
       "      <th>3_hour_pred</th>\n",
       "      <th>Market Demand</th>\n",
       "      <th>Ontario Demand</th>\n",
       "      <th>1_lag_pred</th>\n",
       "      <th>2_lag_pred</th>\n",
       "      <th>3_lag_pred</th>\n",
       "    </tr>\n",
       "  </thead>\n",
       "  <tbody>\n",
       "    <tr>\n",
       "      <th>count</th>\n",
       "      <td>9144.000000</td>\n",
       "      <td>9127.000000</td>\n",
       "      <td>9127.000000</td>\n",
       "      <td>9127.000000</td>\n",
       "      <td>9144.000000</td>\n",
       "      <td>9144.000000</td>\n",
       "      <td>9126.000000</td>\n",
       "      <td>9125.000000</td>\n",
       "      <td>9124.000000</td>\n",
       "    </tr>\n",
       "    <tr>\n",
       "      <th>mean</th>\n",
       "      <td>44.621918</td>\n",
       "      <td>59.261998</td>\n",
       "      <td>58.551458</td>\n",
       "      <td>55.752347</td>\n",
       "      <td>17697.799869</td>\n",
       "      <td>15742.579396</td>\n",
       "      <td>59.266915</td>\n",
       "      <td>58.557074</td>\n",
       "      <td>55.759695</td>\n",
       "    </tr>\n",
       "    <tr>\n",
       "      <th>std</th>\n",
       "      <td>36.291616</td>\n",
       "      <td>71.888755</td>\n",
       "      <td>64.477397</td>\n",
       "      <td>43.627472</td>\n",
       "      <td>2374.629045</td>\n",
       "      <td>2294.888319</td>\n",
       "      <td>71.891159</td>\n",
       "      <td>64.483347</td>\n",
       "      <td>43.632752</td>\n",
       "    </tr>\n",
       "    <tr>\n",
       "      <th>min</th>\n",
       "      <td>-4.430000</td>\n",
       "      <td>-4.400000</td>\n",
       "      <td>-4.300000</td>\n",
       "      <td>-4.300000</td>\n",
       "      <td>11675.000000</td>\n",
       "      <td>10485.000000</td>\n",
       "      <td>-4.400000</td>\n",
       "      <td>-4.300000</td>\n",
       "      <td>-4.300000</td>\n",
       "    </tr>\n",
       "    <tr>\n",
       "      <th>25%</th>\n",
       "      <td>14.380000</td>\n",
       "      <td>38.045000</td>\n",
       "      <td>38.400000</td>\n",
       "      <td>37.655000</td>\n",
       "      <td>15912.000000</td>\n",
       "      <td>14062.750000</td>\n",
       "      <td>38.050000</td>\n",
       "      <td>38.420000</td>\n",
       "      <td>37.677500</td>\n",
       "    </tr>\n",
       "    <tr>\n",
       "      <th>50%</th>\n",
       "      <td>43.840000</td>\n",
       "      <td>52.000000</td>\n",
       "      <td>51.940000</td>\n",
       "      <td>50.930000</td>\n",
       "      <td>17425.500000</td>\n",
       "      <td>15615.000000</td>\n",
       "      <td>52.000000</td>\n",
       "      <td>51.960000</td>\n",
       "      <td>50.960000</td>\n",
       "    </tr>\n",
       "    <tr>\n",
       "      <th>75%</th>\n",
       "      <td>61.290000</td>\n",
       "      <td>69.890000</td>\n",
       "      <td>69.000000</td>\n",
       "      <td>67.830000</td>\n",
       "      <td>19387.000000</td>\n",
       "      <td>17473.000000</td>\n",
       "      <td>69.900000</td>\n",
       "      <td>69.000000</td>\n",
       "      <td>67.830000</td>\n",
       "    </tr>\n",
       "    <tr>\n",
       "      <th>max</th>\n",
       "      <td>689.330000</td>\n",
       "      <td>2000.000000</td>\n",
       "      <td>2000.000000</td>\n",
       "      <td>1000.000000</td>\n",
       "      <td>24702.000000</td>\n",
       "      <td>22607.000000</td>\n",
       "      <td>2000.000000</td>\n",
       "      <td>2000.000000</td>\n",
       "      <td>1000.000000</td>\n",
       "    </tr>\n",
       "  </tbody>\n",
       "</table>\n",
       "</div>"
      ],
      "text/plain": [
       "             Price  1_hour_pred  2_hour_pred  3_hour_pred  Market Demand  \\\n",
       "count  9144.000000  9127.000000  9127.000000  9127.000000    9144.000000   \n",
       "mean     44.621918    59.261998    58.551458    55.752347   17697.799869   \n",
       "std      36.291616    71.888755    64.477397    43.627472    2374.629045   \n",
       "min      -4.430000    -4.400000    -4.300000    -4.300000   11675.000000   \n",
       "25%      14.380000    38.045000    38.400000    37.655000   15912.000000   \n",
       "50%      43.840000    52.000000    51.940000    50.930000   17425.500000   \n",
       "75%      61.290000    69.890000    69.000000    67.830000   19387.000000   \n",
       "max     689.330000  2000.000000  2000.000000  1000.000000   24702.000000   \n",
       "\n",
       "       Ontario Demand   1_lag_pred   2_lag_pred   3_lag_pred  \n",
       "count     9144.000000  9126.000000  9125.000000  9124.000000  \n",
       "mean     15742.579396    59.266915    58.557074    55.759695  \n",
       "std       2294.888319    71.891159    64.483347    43.632752  \n",
       "min      10485.000000    -4.400000    -4.300000    -4.300000  \n",
       "25%      14062.750000    38.050000    38.420000    37.677500  \n",
       "50%      15615.000000    52.000000    51.960000    50.960000  \n",
       "75%      17473.000000    69.900000    69.000000    67.830000  \n",
       "max      22607.000000  2000.000000  2000.000000  1000.000000  "
      ]
     },
     "execution_count": 14,
     "metadata": {},
     "output_type": "execute_result"
    }
   ],
   "source": [
    "df.describe()"
   ]
  },
  {
   "cell_type": "code",
   "execution_count": 16,
   "metadata": {},
   "outputs": [
    {
     "data": {
      "text/html": [
       "<div>\n",
       "<style scoped>\n",
       "    .dataframe tbody tr th:only-of-type {\n",
       "        vertical-align: middle;\n",
       "    }\n",
       "\n",
       "    .dataframe tbody tr th {\n",
       "        vertical-align: top;\n",
       "    }\n",
       "\n",
       "    .dataframe thead th {\n",
       "        text-align: right;\n",
       "    }\n",
       "</style>\n",
       "<table border=\"1\" class=\"dataframe\">\n",
       "  <thead>\n",
       "    <tr style=\"text-align: right;\">\n",
       "      <th></th>\n",
       "      <th>Price</th>\n",
       "      <th>Market Demand</th>\n",
       "      <th>Ontario Demand</th>\n",
       "    </tr>\n",
       "  </thead>\n",
       "  <tbody>\n",
       "    <tr>\n",
       "      <th>Price</th>\n",
       "      <td>1.000000</td>\n",
       "      <td>0.472135</td>\n",
       "      <td>0.521193</td>\n",
       "    </tr>\n",
       "    <tr>\n",
       "      <th>Market Demand</th>\n",
       "      <td>0.472135</td>\n",
       "      <td>1.000000</td>\n",
       "      <td>0.960054</td>\n",
       "    </tr>\n",
       "    <tr>\n",
       "      <th>Ontario Demand</th>\n",
       "      <td>0.521193</td>\n",
       "      <td>0.960054</td>\n",
       "      <td>1.000000</td>\n",
       "    </tr>\n",
       "  </tbody>\n",
       "</table>\n",
       "</div>"
      ],
      "text/plain": [
       "                   Price  Market Demand  Ontario Demand\n",
       "Price           1.000000       0.472135        0.521193\n",
       "Market Demand   0.472135       1.000000        0.960054\n",
       "Ontario Demand  0.521193       0.960054        1.000000"
      ]
     },
     "execution_count": 16,
     "metadata": {},
     "output_type": "execute_result"
    }
   ],
   "source": [
    "df[['Price','Market Demand','Ontario Demand']].corr()"
   ]
  },
  {
   "cell_type": "code",
   "execution_count": 20,
   "metadata": {
    "scrolled": true
   },
   "outputs": [
    {
     "data": {
      "text/plain": [
       "<AxesSubplot:>"
      ]
     },
     "execution_count": 20,
     "metadata": {},
     "output_type": "execute_result"
    },
    {
     "data": {
      "image/png": "[encoded data removed]",
      "text/plain": [
       "<Figure size 432x288 with 2 Axes>"
      ]
     },
     "metadata": {
      "needs_background": "light"
     },
     "output_type": "display_data"
    }
   ],
   "source": [
    "sns.heatmap(df[['Price','Market Demand','Ontario Demand']].corr(),cmap='coolwarm',annot=True)"
   ]
  },
  {
   "cell_type": "code",
   "execution_count": 25,
   "metadata": {},
   "outputs": [
    {
     "data": {
      "text/plain": [
       "<AxesSubplot:>"
      ]
     },
     "execution_count": 25,
     "metadata": {},
     "output_type": "execute_result"
    },
    {
     "data": {
      "image/png": "[encoded data removed]",
      "text/plain": [
       "<Figure size 432x288 with 1 Axes>"
      ]
     },
     "metadata": {
      "needs_background": "light"
     },
     "output_type": "display_data"
    }
   ],
   "source": [
    "df[['Price']].boxplot()"
   ]
  },
  {
   "cell_type": "code",
   "execution_count": 26,
   "metadata": {},
   "outputs": [
    {
     "data": {
      "text/plain": [
       "<AxesSubplot:>"
      ]
     },
     "execution_count": 26,
     "metadata": {},
     "output_type": "execute_result"
    },
    {
     "data": {
      "image/png": "[encoded data removed]",
      "text/plain": [
       "<Figure size 432x288 with 1 Axes>"
      ]
     },
     "metadata": {
      "needs_background": "light"
     },
     "output_type": "display_data"
    }
   ],
   "source": [
    "df[['Market Demand','Ontario Demand']].boxplot()"
   ]
  },
  {
   "cell_type": "code",
   "execution_count": null,
   "metadata": {},
   "outputs": [],
   "source": []
  }
 ],
 "metadata": {
  "kernelspec": {
   "display_name": "Python 3",
   "language": "python",
   "name": "python3"
  },
  "language_info": {
   "codemirror_mode": {
    "name": "ipython",
    "version": 3
   },
   "file_extension": ".py",
   "mimetype": "text/x-python",
   "name": "python",
   "nbconvert_exporter": "python",
   "pygments_lexer": "ipython3",
   "version": "3.8.5"
  },
  "vscode": {
   "interpreter": {
    "hash": "e9ff75553382ac8db4d289de59a1f69fcdcdc85f6de87bdb40db409849a174aa"
   }
  }
 },
 "nbformat": 4,
 "nbformat_minor": 2
}

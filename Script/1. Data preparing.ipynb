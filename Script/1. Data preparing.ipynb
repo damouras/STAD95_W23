in{
 "cells": [
  {
   "cell_type": "code",
   "execution_count": 1,
   "metadata": {},
   "outputs": [],
   "source": [
    "import pandas as pd\n",
    "import numpy as np\n",
    "import datetime\n",
    "import os\n",
    "import seaborn as sns\n",
    "import matplotlib.pyplot as plt\n",
    "%matplotlib inline"
   ]
  },
  {
   "cell_type": "code",
   "execution_count": 2,
   "metadata": {},
   "outputs": [
    {
     "data": {
      "text/plain": [
       "'/Users/zhenglanfeng/Documents/GitHub/STAD95/Script'"
      ]
     },
     "execution_count": 2,
     "metadata": {},
     "output_type": "execute_result"
    }
   ],
   "source": [
    "os.getcwd()"
   ]
  },
  {
   "cell_type": "code",
   "execution_count": 3,
   "metadata": {},
   "outputs": [],
   "source": [
    "price_2022 = pd.read_csv('/Users/zhenglanfeng/Documents/GitHub/STAD95/Data/hourly_data_2022.csv')\n",
    "price_2023 = pd.read_csv('/Users/zhenglanfeng/Documents/GitHub/STAD95/Data/hourly_data_2023.csv')\n",
    "demand_2022 = pd.read_csv('/Users/zhenglanfeng/Documents/GitHub/STAD95/Data/PUB_Demand_2022.csv')\n",
    "demand_2023 = pd.read_csv('/Users/zhenglanfeng/Documents/GitHub/STAD95/Data/PUB_Demand_2023.csv')"
   ]
  },
  {
   "cell_type": "code",
   "execution_count": 4,
   "metadata": {},
   "outputs": [],
   "source": [
    "price = pd.concat([price_2022,price_2023]).reset_index().drop(columns={'index'})"
   ]
  },
  {
   "cell_type": "code",
   "execution_count": 5,
   "metadata": {},
   "outputs": [
    {
     "data": {
      "text/html": [
       "<div>\n",
       "<style scoped>\n",
       "    .dataframe tbody tr th:only-of-type {\n",
       "        vertical-align: middle;\n",
       "    }\n",
       "\n",
       "    .dataframe tbody tr th {\n",
       "        vertical-align: top;\n",
       "    }\n",
       "\n",
       "    .dataframe thead th {\n",
       "        text-align: right;\n",
       "    }\n",
       "</style>\n",
       "<table border=\"1\" class=\"dataframe\">\n",
       "  <thead>\n",
       "    <tr style=\"text-align: right;\">\n",
       "      <th></th>\n",
       "      <th>Date</th>\n",
       "      <th>Hour</th>\n",
       "      <th>HOEP</th>\n",
       "      <th>Hour 1 Predispatch</th>\n",
       "      <th>Hour 2 Predispatch</th>\n",
       "      <th>Hour 3 Predispatch</th>\n",
       "      <th>OR 10 Min Sync</th>\n",
       "      <th>OR 10 Min non-sync</th>\n",
       "      <th>OR 30 Min</th>\n",
       "    </tr>\n",
       "  </thead>\n",
       "  <tbody>\n",
       "    <tr>\n",
       "      <th>0</th>\n",
       "      <td>2022-01-01</td>\n",
       "      <td>1</td>\n",
       "      <td>32.18</td>\n",
       "      <td>27.75</td>\n",
       "      <td>27.73</td>\n",
       "      <td>32.41</td>\n",
       "      <td>1.19</td>\n",
       "      <td>0.2</td>\n",
       "      <td>0.2</td>\n",
       "    </tr>\n",
       "    <tr>\n",
       "      <th>1</th>\n",
       "      <td>2022-01-01</td>\n",
       "      <td>2</td>\n",
       "      <td>59.04</td>\n",
       "      <td>23.23</td>\n",
       "      <td>28.62</td>\n",
       "      <td>32.41</td>\n",
       "      <td>1.30</td>\n",
       "      <td>0.2</td>\n",
       "      <td>0.2</td>\n",
       "    </tr>\n",
       "    <tr>\n",
       "      <th>2</th>\n",
       "      <td>2022-01-01</td>\n",
       "      <td>3</td>\n",
       "      <td>18.79</td>\n",
       "      <td>17.00</td>\n",
       "      <td>14.36</td>\n",
       "      <td>29.13</td>\n",
       "      <td>1.21</td>\n",
       "      <td>0.2</td>\n",
       "      <td>0.2</td>\n",
       "    </tr>\n",
       "    <tr>\n",
       "      <th>3</th>\n",
       "      <td>2022-01-01</td>\n",
       "      <td>4</td>\n",
       "      <td>15.78</td>\n",
       "      <td>18.00</td>\n",
       "      <td>17.20</td>\n",
       "      <td>14.39</td>\n",
       "      <td>1.22</td>\n",
       "      <td>0.2</td>\n",
       "      <td>0.2</td>\n",
       "    </tr>\n",
       "    <tr>\n",
       "      <th>4</th>\n",
       "      <td>2022-01-01</td>\n",
       "      <td>5</td>\n",
       "      <td>0.41</td>\n",
       "      <td>12.99</td>\n",
       "      <td>12.99</td>\n",
       "      <td>29.51</td>\n",
       "      <td>1.23</td>\n",
       "      <td>0.2</td>\n",
       "      <td>0.2</td>\n",
       "    </tr>\n",
       "  </tbody>\n",
       "</table>\n",
       "</div>"
      ],
      "text/plain": [
       "         Date  Hour   HOEP  Hour 1 Predispatch  Hour 2 Predispatch  \\\n",
       "0  2022-01-01     1  32.18               27.75               27.73   \n",
       "1  2022-01-01     2  59.04               23.23               28.62   \n",
       "2  2022-01-01     3  18.79               17.00               14.36   \n",
       "3  2022-01-01     4  15.78               18.00               17.20   \n",
       "4  2022-01-01     5   0.41               12.99               12.99   \n",
       "\n",
       "   Hour 3 Predispatch  OR 10 Min Sync  OR 10 Min non-sync  OR 30 Min  \n",
       "0               32.41            1.19                 0.2        0.2  \n",
       "1               32.41            1.30                 0.2        0.2  \n",
       "2               29.13            1.21                 0.2        0.2  \n",
       "3               14.39            1.22                 0.2        0.2  \n",
       "4               29.51            1.23                 0.2        0.2  "
      ]
     },
     "execution_count": 5,
     "metadata": {},
     "output_type": "execute_result"
    }
   ],
   "source": [
    "price.head()"
   ]
  },
  {
   "cell_type": "code",
   "execution_count": 6,
   "metadata": {},
   "outputs": [],
   "source": [
    "demand = pd.concat([demand_2022,demand_2023]).reset_index().drop(columns={'index'})"
   ]
  },
  {
   "cell_type": "code",
   "execution_count": 7,
   "metadata": {
    "scrolled": true
   },
   "outputs": [
    {
     "data": {
      "text/html": [
       "<div>\n",
       "<style scoped>\n",
       "    .dataframe tbody tr th:only-of-type {\n",
       "        vertical-align: middle;\n",
       "    }\n",
       "\n",
       "    .dataframe tbody tr th {\n",
       "        vertical-align: top;\n",
       "    }\n",
       "\n",
       "    .dataframe thead th {\n",
       "        text-align: right;\n",
       "    }\n",
       "</style>\n",
       "<table border=\"1\" class=\"dataframe\">\n",
       "  <thead>\n",
       "    <tr style=\"text-align: right;\">\n",
       "      <th></th>\n",
       "      <th>Date</th>\n",
       "      <th>Hour</th>\n",
       "      <th>Market Demand</th>\n",
       "      <th>Ontario Demand</th>\n",
       "    </tr>\n",
       "  </thead>\n",
       "  <tbody>\n",
       "    <tr>\n",
       "      <th>0</th>\n",
       "      <td>2022-01-01</td>\n",
       "      <td>1</td>\n",
       "      <td>15150</td>\n",
       "      <td>13543</td>\n",
       "    </tr>\n",
       "    <tr>\n",
       "      <th>1</th>\n",
       "      <td>2022-01-01</td>\n",
       "      <td>2</td>\n",
       "      <td>15344</td>\n",
       "      <td>13254</td>\n",
       "    </tr>\n",
       "    <tr>\n",
       "      <th>2</th>\n",
       "      <td>2022-01-01</td>\n",
       "      <td>3</td>\n",
       "      <td>14686</td>\n",
       "      <td>12683</td>\n",
       "    </tr>\n",
       "    <tr>\n",
       "      <th>3</th>\n",
       "      <td>2022-01-01</td>\n",
       "      <td>4</td>\n",
       "      <td>14400</td>\n",
       "      <td>12491</td>\n",
       "    </tr>\n",
       "    <tr>\n",
       "      <th>4</th>\n",
       "      <td>2022-01-01</td>\n",
       "      <td>5</td>\n",
       "      <td>14043</td>\n",
       "      <td>12493</td>\n",
       "    </tr>\n",
       "  </tbody>\n",
       "</table>\n",
       "</div>"
      ],
      "text/plain": [
       "         Date  Hour  Market Demand  Ontario Demand\n",
       "0  2022-01-01     1          15150           13543\n",
       "1  2022-01-01     2          15344           13254\n",
       "2  2022-01-01     3          14686           12683\n",
       "3  2022-01-01     4          14400           12491\n",
       "4  2022-01-01     5          14043           12493"
      ]
     },
     "execution_count": 7,
     "metadata": {},
     "output_type": "execute_result"
    }
   ],
   "source": [
    "demand.head()"
   ]
  },
  {
   "cell_type": "code",
   "execution_count": 8,
   "metadata": {},
   "outputs": [],
   "source": [
    "df = pd.merge(price,demand,on=['Date','Hour'],how = 'left')"
   ]
  },
  {
   "cell_type": "code",
   "execution_count": 9,
   "metadata": {},
   "outputs": [],
   "source": [
    "df = df[['Date','Hour','HOEP','Hour 1 Predispatch','Hour 2 Predispatch','Hour 3 Predispatch','Market Demand','Ontario Demand']]"
   ]
  },
  {
   "cell_type": "code",
   "execution_count": 10,
   "metadata": {},
   "outputs": [],
   "source": [
    "date=pd.to_datetime(df['Date'])\n",
    "hour=df['Hour']\n",
    "hour = hour.replace(24,0)\n",
    "hour=hour.apply(lambda x: datetime.time(x,0))\n",
    "dt=date.apply(lambda x: str(x.date()))+' '+hour.apply(lambda x: str(x))\n",
    "dt = pd.to_datetime(dt)\n",
    "def adjusthour(x):\n",
    "    if x.hour == 0:\n",
    "        return x + datetime.timedelta(days=1)\n",
    "    else:\n",
    "        return x\n",
    "dt = dt.apply(adjusthour)\n",
    "\n",
    "df['Date']=dt\n",
    "df.drop('Hour',axis=1,inplace=True)"
   ]
  },
  {
   "cell_type": "code",
   "execution_count": 11,
   "metadata": {},
   "outputs": [],
   "source": [
    "df.rename(columns={'HOEP':'Price','Hour 1 Predispatch':'1_hour_pred','Hour 2 Predispatch':'2_hour_pred','Hour 3 Predispatch':'3_hour_pred'},inplace=True)"
   ]
  },
  {
   "cell_type": "code",
   "execution_count": 12,
   "metadata": {},
   "outputs": [],
   "source": [
    "df['1_lag_pred']=df['1_hour_pred'].shift()"
   ]
  },
  {
   "cell_type": "code",
   "execution_count": 13,
   "metadata": {},
   "outputs": [],
   "source": [
    "df['2_lag_pred']=df['2_hour_pred'].shift(2)"
   ]
  },
  {
   "cell_type": "code",
   "execution_count": 14,
   "metadata": {},
   "outputs": [],
   "source": [
    "df['3_lag_pred']=df['3_hour_pred'].shift(3)"
   ]
  },
  {
   "cell_type": "code",
   "execution_count": 15,
   "metadata": {},
   "outputs": [
    {
     "data": {
      "text/html": [
       "<div>\n",
       "<style scoped>\n",
       "    .dataframe tbody tr th:only-of-type {\n",
       "        vertical-align: middle;\n",
       "    }\n",
       "\n",
       "    .dataframe tbody tr th {\n",
       "        vertical-align: top;\n",
       "    }\n",
       "\n",
       "    .dataframe thead th {\n",
       "        text-align: right;\n",
       "    }\n",
       "</style>\n",
       "<table border=\"1\" class=\"dataframe\">\n",
       "  <thead>\n",
       "    <tr style=\"text-align: right;\">\n",
       "      <th></th>\n",
       "      <th>Date</th>\n",
       "      <th>Price</th>\n",
       "      <th>1_hour_pred</th>\n",
       "      <th>2_hour_pred</th>\n",
       "      <th>3_hour_pred</th>\n",
       "      <th>Market Demand</th>\n",
       "      <th>Ontario Demand</th>\n",
       "      <th>1_lag_pred</th>\n",
       "      <th>2_lag_pred</th>\n",
       "      <th>3_lag_pred</th>\n",
       "    </tr>\n",
       "  </thead>\n",
       "  <tbody>\n",
       "    <tr>\n",
       "      <th>0</th>\n",
       "      <td>2022-01-01 01:00:00</td>\n",
       "      <td>32.18</td>\n",
       "      <td>27.75</td>\n",
       "      <td>27.73</td>\n",
       "      <td>32.41</td>\n",
       "      <td>15150</td>\n",
       "      <td>13543</td>\n",
       "      <td>NaN</td>\n",
       "      <td>NaN</td>\n",
       "      <td>NaN</td>\n",
       "    </tr>\n",
       "    <tr>\n",
       "      <th>1</th>\n",
       "      <td>2022-01-01 02:00:00</td>\n",
       "      <td>59.04</td>\n",
       "      <td>23.23</td>\n",
       "      <td>28.62</td>\n",
       "      <td>32.41</td>\n",
       "      <td>15344</td>\n",
       "      <td>13254</td>\n",
       "      <td>27.75</td>\n",
       "      <td>NaN</td>\n",
       "      <td>NaN</td>\n",
       "    </tr>\n",
       "    <tr>\n",
       "      <th>2</th>\n",
       "      <td>2022-01-01 03:00:00</td>\n",
       "      <td>18.79</td>\n",
       "      <td>17.00</td>\n",
       "      <td>14.36</td>\n",
       "      <td>29.13</td>\n",
       "      <td>14686</td>\n",
       "      <td>12683</td>\n",
       "      <td>23.23</td>\n",
       "      <td>27.73</td>\n",
       "      <td>NaN</td>\n",
       "    </tr>\n",
       "    <tr>\n",
       "      <th>3</th>\n",
       "      <td>2022-01-01 04:00:00</td>\n",
       "      <td>15.78</td>\n",
       "      <td>18.00</td>\n",
       "      <td>17.20</td>\n",
       "      <td>14.39</td>\n",
       "      <td>14400</td>\n",
       "      <td>12491</td>\n",
       "      <td>17.00</td>\n",
       "      <td>28.62</td>\n",
       "      <td>32.41</td>\n",
       "    </tr>\n",
       "    <tr>\n",
       "      <th>4</th>\n",
       "      <td>2022-01-01 05:00:00</td>\n",
       "      <td>0.41</td>\n",
       "      <td>12.99</td>\n",
       "      <td>12.99</td>\n",
       "      <td>29.51</td>\n",
       "      <td>14043</td>\n",
       "      <td>12493</td>\n",
       "      <td>18.00</td>\n",
       "      <td>14.36</td>\n",
       "      <td>32.41</td>\n",
       "    </tr>\n",
       "    <tr>\n",
       "      <th>...</th>\n",
       "      <td>...</td>\n",
       "      <td>...</td>\n",
       "      <td>...</td>\n",
       "      <td>...</td>\n",
       "      <td>...</td>\n",
       "      <td>...</td>\n",
       "      <td>...</td>\n",
       "      <td>...</td>\n",
       "      <td>...</td>\n",
       "      <td>...</td>\n",
       "    </tr>\n",
       "    <tr>\n",
       "      <th>9139</th>\n",
       "      <td>2023-01-16 20:00:00</td>\n",
       "      <td>14.39</td>\n",
       "      <td>36.07</td>\n",
       "      <td>37.53</td>\n",
       "      <td>39.73</td>\n",
       "      <td>20792</td>\n",
       "      <td>18522</td>\n",
       "      <td>38.62</td>\n",
       "      <td>53.01</td>\n",
       "      <td>38.62</td>\n",
       "    </tr>\n",
       "    <tr>\n",
       "      <th>9140</th>\n",
       "      <td>2023-01-16 21:00:00</td>\n",
       "      <td>14.37</td>\n",
       "      <td>33.86</td>\n",
       "      <td>36.71</td>\n",
       "      <td>38.96</td>\n",
       "      <td>20440</td>\n",
       "      <td>18195</td>\n",
       "      <td>36.07</td>\n",
       "      <td>41.47</td>\n",
       "      <td>38.62</td>\n",
       "    </tr>\n",
       "    <tr>\n",
       "      <th>9141</th>\n",
       "      <td>2023-01-16 22:00:00</td>\n",
       "      <td>12.95</td>\n",
       "      <td>35.12</td>\n",
       "      <td>35.41</td>\n",
       "      <td>35.77</td>\n",
       "      <td>19721</td>\n",
       "      <td>17536</td>\n",
       "      <td>33.86</td>\n",
       "      <td>37.53</td>\n",
       "      <td>42.13</td>\n",
       "    </tr>\n",
       "    <tr>\n",
       "      <th>9142</th>\n",
       "      <td>2023-01-16 23:00:00</td>\n",
       "      <td>9.10</td>\n",
       "      <td>33.08</td>\n",
       "      <td>33.64</td>\n",
       "      <td>32.22</td>\n",
       "      <td>18891</td>\n",
       "      <td>16534</td>\n",
       "      <td>35.12</td>\n",
       "      <td>36.71</td>\n",
       "      <td>39.73</td>\n",
       "    </tr>\n",
       "    <tr>\n",
       "      <th>9143</th>\n",
       "      <td>2023-01-17 00:00:00</td>\n",
       "      <td>2.20</td>\n",
       "      <td>14.39</td>\n",
       "      <td>32.22</td>\n",
       "      <td>32.22</td>\n",
       "      <td>18112</td>\n",
       "      <td>15630</td>\n",
       "      <td>33.08</td>\n",
       "      <td>35.41</td>\n",
       "      <td>38.96</td>\n",
       "    </tr>\n",
       "  </tbody>\n",
       "</table>\n",
       "<p>9144 rows × 10 columns</p>\n",
       "</div>"
      ],
      "text/plain": [
       "                    Date  Price  1_hour_pred  2_hour_pred  3_hour_pred  \\\n",
       "0    2022-01-01 01:00:00  32.18        27.75        27.73        32.41   \n",
       "1    2022-01-01 02:00:00  59.04        23.23        28.62        32.41   \n",
       "2    2022-01-01 03:00:00  18.79        17.00        14.36        29.13   \n",
       "3    2022-01-01 04:00:00  15.78        18.00        17.20        14.39   \n",
       "4    2022-01-01 05:00:00   0.41        12.99        12.99        29.51   \n",
       "...                  ...    ...          ...          ...          ...   \n",
       "9139 2023-01-16 20:00:00  14.39        36.07        37.53        39.73   \n",
       "9140 2023-01-16 21:00:00  14.37        33.86        36.71        38.96   \n",
       "9141 2023-01-16 22:00:00  12.95        35.12        35.41        35.77   \n",
       "9142 2023-01-16 23:00:00   9.10        33.08        33.64        32.22   \n",
       "9143 2023-01-17 00:00:00   2.20        14.39        32.22        32.22   \n",
       "\n",
       "      Market Demand  Ontario Demand  1_lag_pred  2_lag_pred  3_lag_pred  \n",
       "0             15150           13543         NaN         NaN         NaN  \n",
       "1             15344           13254       27.75         NaN         NaN  \n",
       "2             14686           12683       23.23       27.73         NaN  \n",
       "3             14400           12491       17.00       28.62       32.41  \n",
       "4             14043           12493       18.00       14.36       32.41  \n",
       "...             ...             ...         ...         ...         ...  \n",
       "9139          20792           18522       38.62       53.01       38.62  \n",
       "9140          20440           18195       36.07       41.47       38.62  \n",
       "9141          19721           17536       33.86       37.53       42.13  \n",
       "9142          18891           16534       35.12       36.71       39.73  \n",
       "9143          18112           15630       33.08       35.41       38.96  \n",
       "\n",
       "[9144 rows x 10 columns]"
      ]
     },
     "execution_count": 15,
     "metadata": {},
     "output_type": "execute_result"
    }
   ],
   "source": [
    "df"
   ]
  },
  {
   "cell_type": "code",
   "execution_count": 16,
   "metadata": {},
   "outputs": [
    {
     "data": {
      "text/plain": [
       "-4.43"
      ]
     },
     "execution_count": 16,
     "metadata": {},
     "output_type": "execute_result"
    }
   ],
   "source": [
    "df['Price'].min()"
   ]
  },
  {
   "cell_type": "code",
   "execution_count": 17,
   "metadata": {},
   "outputs": [
    {
     "data": {
      "text/html": [
       "<div>\n",
       "<style scoped>\n",
       "    .dataframe tbody tr th:only-of-type {\n",
       "        vertical-align: middle;\n",
       "    }\n",
       "\n",
       "    .dataframe tbody tr th {\n",
       "        vertical-align: top;\n",
       "    }\n",
       "\n",
       "    .dataframe thead th {\n",
       "        text-align: right;\n",
       "    }\n",
       "</style>\n",
       "<table border=\"1\" class=\"dataframe\">\n",
       "  <thead>\n",
       "    <tr style=\"text-align: right;\">\n",
       "      <th></th>\n",
       "      <th>Date</th>\n",
       "      <th>Price</th>\n",
       "      <th>1_hour_pred</th>\n",
       "      <th>2_hour_pred</th>\n",
       "      <th>3_hour_pred</th>\n",
       "      <th>Market Demand</th>\n",
       "      <th>Ontario Demand</th>\n",
       "      <th>1_lag_pred</th>\n",
       "      <th>2_lag_pred</th>\n",
       "      <th>3_lag_pred</th>\n",
       "    </tr>\n",
       "  </thead>\n",
       "  <tbody>\n",
       "    <tr>\n",
       "      <th>4061</th>\n",
       "      <td>2022-06-19 06:00:00</td>\n",
       "      <td>-4.43</td>\n",
       "      <td>-4.4</td>\n",
       "      <td>-4.3</td>\n",
       "      <td>-4.3</td>\n",
       "      <td>13005</td>\n",
       "      <td>10862</td>\n",
       "      <td>0.0</td>\n",
       "      <td>0.0</td>\n",
       "      <td>0.0</td>\n",
       "    </tr>\n",
       "  </tbody>\n",
       "</table>\n",
       "</div>"
      ],
      "text/plain": [
       "                    Date  Price  1_hour_pred  2_hour_pred  3_hour_pred  \\\n",
       "4061 2022-06-19 06:00:00  -4.43         -4.4         -4.3         -4.3   \n",
       "\n",
       "      Market Demand  Ontario Demand  1_lag_pred  2_lag_pred  3_lag_pred  \n",
       "4061          13005           10862         0.0         0.0         0.0  "
      ]
     },
     "execution_count": 17,
     "metadata": {},
     "output_type": "execute_result"
    }
   ],
   "source": [
    "df[df['Price']==-4.43]"
   ]
  },
  {
   "cell_type": "code",
   "execution_count": 18,
   "metadata": {},
   "outputs": [
    {
     "data": {
      "text/plain": [
       "689.33"
      ]
     },
     "execution_count": 18,
     "metadata": {},
     "output_type": "execute_result"
    }
   ],
   "source": [
    "df['Price'].max()"
   ]
  },
  {
   "cell_type": "code",
   "execution_count": 19,
   "metadata": {},
   "outputs": [
    {
     "data": {
      "text/html": [
       "<div>\n",
       "<style scoped>\n",
       "    .dataframe tbody tr th:only-of-type {\n",
       "        vertical-align: middle;\n",
       "    }\n",
       "\n",
       "    .dataframe tbody tr th {\n",
       "        vertical-align: top;\n",
       "    }\n",
       "\n",
       "    .dataframe thead th {\n",
       "        text-align: right;\n",
       "    }\n",
       "</style>\n",
       "<table border=\"1\" class=\"dataframe\">\n",
       "  <thead>\n",
       "    <tr style=\"text-align: right;\">\n",
       "      <th></th>\n",
       "      <th>Date</th>\n",
       "      <th>Price</th>\n",
       "      <th>1_hour_pred</th>\n",
       "      <th>2_hour_pred</th>\n",
       "      <th>3_hour_pred</th>\n",
       "      <th>Market Demand</th>\n",
       "      <th>Ontario Demand</th>\n",
       "      <th>1_lag_pred</th>\n",
       "      <th>2_lag_pred</th>\n",
       "      <th>3_lag_pred</th>\n",
       "    </tr>\n",
       "  </thead>\n",
       "  <tbody>\n",
       "    <tr>\n",
       "      <th>5252</th>\n",
       "      <td>2022-08-07 21:00:00</td>\n",
       "      <td>689.33</td>\n",
       "      <td>165.42</td>\n",
       "      <td>149.2</td>\n",
       "      <td>150.0</td>\n",
       "      <td>23328</td>\n",
       "      <td>21366</td>\n",
       "      <td>179.2</td>\n",
       "      <td>229.07</td>\n",
       "      <td>250.0</td>\n",
       "    </tr>\n",
       "  </tbody>\n",
       "</table>\n",
       "</div>"
      ],
      "text/plain": [
       "                    Date   Price  1_hour_pred  2_hour_pred  3_hour_pred  \\\n",
       "5252 2022-08-07 21:00:00  689.33       165.42        149.2        150.0   \n",
       "\n",
       "      Market Demand  Ontario Demand  1_lag_pred  2_lag_pred  3_lag_pred  \n",
       "5252          23328           21366       179.2      229.07       250.0  "
      ]
     },
     "execution_count": 19,
     "metadata": {},
     "output_type": "execute_result"
    }
   ],
   "source": [
    "df[df['Price']==689.33]"
   ]
  },
  {
   "cell_type": "code",
   "execution_count": 20,
   "metadata": {},
   "outputs": [
    {
     "data": {
      "text/plain": [
       "44.62191819772519"
      ]
     },
     "execution_count": 20,
     "metadata": {},
     "output_type": "execute_result"
    }
   ],
   "source": [
    "df['Price'].mean()"
   ]
  },
  {
   "cell_type": "code",
   "execution_count": 21,
   "metadata": {},
   "outputs": [
    {
     "name": "stderr",
     "output_type": "stream",
     "text": [
      "/opt/anaconda3/lib/python3.8/site-packages/seaborn/distributions.py:2551: FutureWarning: `distplot` is a deprecated function and will be removed in a future version. Please adapt your code to use either `displot` (a figure-level function with similar flexibility) or `histplot` (an axes-level function for histograms).\n",
      "  warnings.warn(msg, FutureWarning)\n"
     ]
    },
    {
     "data": {
      "text/plain": [
       "<AxesSubplot:xlabel='Price'>"
      ]
     },
     "execution_count": 21,
     "metadata": {},
     "output_type": "execute_result"
    },
    {
     "data": {
      "image/png": "[encoded data removed]",
      "text/plain": [
       "<Figure size 432x288 with 1 Axes>"
      ]
     },
     "metadata": {
      "needs_background": "light"
     },
     "output_type": "display_data"
    }
   ],
   "source": [
    "sns.distplot(df['Price'],bins=40,kde=False, color='red')"
   ]
  },
  {
   "cell_type": "code",
   "execution_count": 22,
   "metadata": {},
   "outputs": [
    {
     "data": {
      "text/plain": [
       "[<matplotlib.lines.Line2D at 0x7f9a90fe6e20>]"
      ]
     },
     "execution_count": 22,
     "metadata": {},
     "output_type": "execute_result"
    },
    {
     "data": {
      "image/png": "[encoded data removed]",
      "text/plain": [
       "<Figure size 432x288 with 1 Axes>"
      ]
     },
     "metadata": {
      "needs_background": "light"
     },
     "output_type": "display_data"
    }
   ],
   "source": [
    "plt.plot(df['Date'], df['Price'])"
   ]
  },
  {
   "cell_type": "code",
   "execution_count": 23,
   "metadata": {},
   "outputs": [
    {
     "data": {
      "text/plain": [
       "[<matplotlib.lines.Line2D at 0x7f9a930a0790>]"
      ]
     },
     "execution_count": 23,
     "metadata": {},
     "output_type": "execute_result"
    },
    {
     "data": {
      "image/png": "[encoded data removed]",
      "text/plain": [
       "<Figure size 432x288 with 1 Axes>"
      ]
     },
     "metadata": {
      "needs_background": "light"
     },
     "output_type": "display_data"
    }
   ],
   "source": [
    "plt.plot(df['Date'], df['Market Demand'])"
   ]
  },
  {
   "cell_type": "code",
   "execution_count": 25,
   "metadata": {},
   "outputs": [
    {
     "data": {
      "text/plain": [
       "[<matplotlib.lines.Line2D at 0x7f9a9370c580>]"
      ]
     },
     "execution_count": 25,
     "metadata": {},
     "output_type": "execute_result"
    },
    {
     "data": {
      "image/png": "[encoded data removed]",
      "text/plain": [
       "<Figure size 432x288 with 1 Axes>"
      ]
     },
     "metadata": {
      "needs_background": "light"
     },
     "output_type": "display_data"
    }
   ],
   "source": [
    "plt.plot(df['Date'], df['Ontario Demand'])"
   ]
  },
  {
   "cell_type": "code",
   "execution_count": null,
   "metadata": {},
   "outputs": [],
   "source": []
  }
 ],
 "metadata": {
  "kernelspec": {
   "display_name": "Python 3",
   "language": "python",
   "name": "python3"
  },
  "language_info": {
   "codemirror_mode": {
    "name": "ipython",
    "version": 3
   },
   "file_extension": ".py",
   "mimetype": "text/x-python",
   "name": "python",
   "nbconvert_exporter": "python",
   "pygments_lexer": "ipython3",
   "version": "3.8.5"
  }
 },
 "nbformat": 4,
 "nbformat_minor": 4
}
